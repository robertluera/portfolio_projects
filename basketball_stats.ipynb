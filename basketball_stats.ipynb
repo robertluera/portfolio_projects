{
  "nbformat": 4,
  "nbformat_minor": 0,
  "metadata": {
    "colab": {
      "provenance": [],
      "authorship_tag": "ABX9TyPK1lGgf3t++OIi0DSZLG6m",
      "include_colab_link": true
    },
    "kernelspec": {
      "name": "python3",
      "display_name": "Python 3"
    },
    "language_info": {
      "name": "python"
    }
  },
  "cells": [
    {
      "cell_type": "markdown",
      "metadata": {
        "id": "view-in-github",
        "colab_type": "text"
      },
      "source": [
        "<a href=\"https://colab.research.google.com/github/robertluera/portfolio_projects/blob/main/basketball_stats.ipynb\" target=\"_parent\"><img src=\"https://colab.research.google.com/assets/colab-badge.svg\" alt=\"Open In Colab\"/></a>"
      ]
    },
    {
      "cell_type": "code",
      "execution_count": 6,
      "metadata": {
        "id": "j30Zr059C7M9"
      },
      "outputs": [],
      "source": [
        "import pandas as pd\n",
        "\n",
        "import time\n",
        "\n",
        "import matplotlib.pyplot as plt\n"
      ]
    },
    {
      "cell_type": "code",
      "source": [
        "starting_year = 2016\n",
        "starting_year += 1\n",
        "ending_year = 2023\n",
        "seasons = ending_year - starting_year\n",
        "years = [starting_year + i for i in range(seasons + 1)]\n",
        "\n",
        "print(years)"
      ],
      "metadata": {
        "colab": {
          "base_uri": "https://localhost:8080/"
        },
        "id": "PHSsjHf06QKl",
        "outputId": "9004d9df-0724-4d34-d420-a3d85c8aeddc"
      },
      "execution_count": 27,
      "outputs": [
        {
          "output_type": "stream",
          "name": "stdout",
          "text": [
            "[2017, 2018, 2019, 2020, 2021, 2022, 2023]\n"
          ]
        }
      ]
    },
    {
      "cell_type": "code",
      "source": [
        "def yearly_avg(year, stat):\n",
        "  url = f'https://www.basketball-reference.com/leagues/NBA_{year}.html#all_per_game_team-opponent'\n",
        "\n",
        "  # create a list of tables from the url\n",
        "  tables = pd.read_html(url)\n",
        "  for i in range(len(tables)):\n",
        "    df = tables[i]\n",
        "    try:\n",
        "      avg = df[stat].mean()\n",
        "    except:\n",
        "      pass\n",
        "    else:\n",
        "      print(df.head(1)) \n",
        "      return avg\n",
        "      break\n",
        "\n",
        "  "
      ],
      "metadata": {
        "id": "DL4lwKLOC9XI"
      },
      "execution_count": 29,
      "outputs": []
    },
    {
      "cell_type": "code",
      "source": [
        "season_avgs = []\n",
        "stat = 'PTS'\n",
        "for i in years:\n",
        "  season_avgs.append(yearly_avg(i, stat))\n",
        "  time.sleep(1)\n",
        "\n",
        "season_avgs"
      ],
      "metadata": {
        "colab": {
          "base_uri": "https://localhost:8080/"
        },
        "id": "dBK9XgIl-dsB",
        "outputId": "988b9463-1625-4817-9faf-e5e1e69390b8"
      },
      "execution_count": 30,
      "outputs": [
        {
          "output_type": "stream",
          "name": "stdout",
          "text": [
            "    Rk                    Team   G     MP    FG   FGA    FG%    3P   3PA  \\\n",
            "0  1.0  Golden State Warriors*  82  241.2  43.1  87.1  0.495  12.0  31.2   \n",
            "\n",
            "     3P%  ...    FT%  ORB   DRB   TRB   AST  STL  BLK   TOV    PF    PTS  \n",
            "0  0.383  ...  0.788  9.4  35.0  44.4  30.4  9.6  6.8  14.8  19.3  115.9  \n",
            "\n",
            "[1 rows x 25 columns]\n",
            "    Rk                    Team   G     MP    FG   FGA    FG%    3P   3PA  \\\n",
            "0  1.0  Golden State Warriors*  82  240.6  42.8  85.1  0.503  11.3  28.9   \n",
            "\n",
            "     3P%  ...    FT%  ORB   DRB   TRB   AST  STL  BLK   TOV    PF    PTS  \n",
            "0  0.391  ...  0.815  8.4  35.1  43.5  29.3  8.0  7.5  15.5  19.6  113.5  \n",
            "\n",
            "[1 rows x 25 columns]\n",
            "    Rk              Team   G     MP    FG   FGA    FG%    3P   3PA    3P%  \\\n",
            "0  1.0  Milwaukee Bucks*  82  241.2  43.4  91.1  0.476  13.5  38.2  0.353   \n",
            "\n",
            "   ...    FT%  ORB   DRB   TRB   AST  STL  BLK   TOV    PF    PTS  \n",
            "0  ...  0.773  9.3  40.4  49.7  26.0  7.5  5.9  13.9  19.6  118.1  \n",
            "\n",
            "[1 rows x 25 columns]\n",
            "    Rk              Team   G     MP    FG   FGA    FG%    3P   3PA    3P%  \\\n",
            "0  1.0  Milwaukee Bucks*  73  241.0  43.3  90.9  0.476  13.8  38.9  0.355   \n",
            "\n",
            "   ...    FT%  ORB   DRB   TRB   AST  STL  BLK   TOV    PF    PTS  \n",
            "0  ...  0.742  9.5  42.2  51.7  25.9  7.2  5.9  15.1  19.6  118.7  \n",
            "\n",
            "[1 rows x 25 columns]\n",
            "    Rk              Team   G     MP    FG   FGA    FG%    3P   3PA    3P%  \\\n",
            "0  1.0  Milwaukee Bucks*  72  240.7  44.7  91.8  0.487  14.4  37.1  0.389   \n",
            "\n",
            "   ...   FT%   ORB   DRB   TRB   AST  STL  BLK   TOV    PF    PTS  \n",
            "0  ...  0.76  10.3  37.8  48.1  25.5  8.1  4.6  13.8  17.3  120.1  \n",
            "\n",
            "[1 rows x 25 columns]\n",
            "    Rk                     Team   G     MP    FG   FGA    FG%    3P   3PA  \\\n",
            "0  1.0  Minnesota Timberwolves*  82  241.2  41.6  91.0  0.457  14.8  41.3   \n",
            "\n",
            "     3P%  ...    FT%   ORB   DRB   TRB   AST  STL  BLK   TOV    PF    PTS  \n",
            "0  0.358  ...  0.778  11.2  32.9  44.2  25.7  8.8  5.6  14.3  21.8  115.9  \n",
            "\n",
            "[1 rows x 25 columns]\n",
            "    Rk              Team   G     MP    FG   FGA    FG%    3P   3PA    3P%  \\\n",
            "0  1.0  Sacramento Kings  80  241.9  43.7  88.1  0.496  13.8  37.2  0.371   \n",
            "\n",
            "   ...    FT%  ORB   DRB   TRB   AST  STL  BLK   TOV    PF    PTS  \n",
            "0  ...  0.793  9.4  33.2  42.6  27.4  7.0  3.3  13.5  19.8  121.3  \n",
            "\n",
            "[1 rows x 25 columns]\n"
          ]
        },
        {
          "output_type": "execute_result",
          "data": {
            "text/plain": [
              "[105.59032258064516,\n",
              " 106.33548387096776,\n",
              " 111.2032258064516,\n",
              " 111.68709677419358,\n",
              " 112.08709677419354,\n",
              " 110.60645161290321,\n",
              " 114.65806451612903]"
            ]
          },
          "metadata": {},
          "execution_count": 30
        }
      ]
    },
    {
      "cell_type": "code",
      "source": [
        "plt.plot(years, season_avgs, color='blue')\n",
        "plt.grid()\n",
        "plt.xlabel('Year')\n",
        "plt.ylabel(stat)\n",
        "\n",
        "plt.show"
      ],
      "metadata": {
        "id": "57sbuMKdBCia",
        "outputId": "06ccb11d-329e-477a-d9ce-a2b0f57439fb",
        "colab": {
          "base_uri": "https://localhost:8080/",
          "height": 466
        }
      },
      "execution_count": 32,
      "outputs": [
        {
          "output_type": "execute_result",
          "data": {
            "text/plain": [
              "<function matplotlib.pyplot.show(close=None, block=None)>"
            ]
          },
          "metadata": {},
          "execution_count": 32
        },
        {
          "output_type": "display_data",
          "data": {
            "text/plain": [
              "<Figure size 640x480 with 1 Axes>"
            ],
            "image/png": "[encoded data removed]"
          },
          "metadata": {}
        }
      ]
    },
    {
      "cell_type": "code",
      "source": [],
      "metadata": {
        "id": "dbK2_8n5pre1"
      },
      "execution_count": null,
      "outputs": []
    }
  ]
}